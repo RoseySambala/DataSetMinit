{
  "nbformat": 4,
  "nbformat_minor": 0,
  "metadata": {
    "colab": {
      "provenance": []
    },
    "kernelspec": {
      "name": "python3",
      "display_name": "Python 3"
    },
    "language_info": {
      "name": "python"
    }
  },
  "cells": [
    {
      "cell_type": "code",
      "execution_count": 118,
      "metadata": {
        "id": "Z7P_LmoTyLCZ"
      },
      "outputs": [],
      "source": [
        "import pandas as pd\n",
        "import seaborn as sns\n",
        "import numpy as np\n",
        "import matplotlib.pyplot as plt\n",
        "import tensorflow as tf"
      ]
    },
    {
      "cell_type": "code",
      "source": [
        "(x_train, y_train), (x_test, y_test) = tf.keras.datasets.fashion_mnist.load_data()"
      ],
      "metadata": {
        "id": "RbfO-bP0yU00"
      },
      "execution_count": 119,
      "outputs": []
    },
    {
      "cell_type": "code",
      "source": [
        "##training_images = x, training_labels=y, test_images=x_test, test_labels=y_test"
      ],
      "metadata": {
        "id": "mQ2VVHi46Yrk"
      },
      "execution_count": 120,
      "outputs": []
    },
    {
      "cell_type": "code",
      "source": [
        "x_train.shape"
      ],
      "metadata": {
        "colab": {
          "base_uri": "https://localhost:8080/"
        },
        "id": "qWpVa9xW61sF",
        "outputId": "e9c93aa7-1f4d-416c-9f39-ad913ba519cd"
      },
      "execution_count": 121,
      "outputs": [
        {
          "output_type": "execute_result",
          "data": {
            "text/plain": [
              "(60000, 28, 28)"
            ]
          },
          "metadata": {},
          "execution_count": 121
        }
      ]
    },
    {
      "cell_type": "code",
      "source": [
        "x_test.shape"
      ],
      "metadata": {
        "colab": {
          "base_uri": "https://localhost:8080/"
        },
        "id": "W1qRdvQt7Nml",
        "outputId": "a67bcaef-b394-4811-db4e-48e8fdab6977"
      },
      "execution_count": 122,
      "outputs": [
        {
          "output_type": "execute_result",
          "data": {
            "text/plain": [
              "(10000, 28, 28)"
            ]
          },
          "metadata": {},
          "execution_count": 122
        }
      ]
    },
    {
      "cell_type": "code",
      "source": [
        "y_train.shape"
      ],
      "metadata": {
        "colab": {
          "base_uri": "https://localhost:8080/"
        },
        "id": "Gb0tRNJi6JFl",
        "outputId": "256c3925-0ff8-4a23-ad93-742734ceeebe"
      },
      "execution_count": 123,
      "outputs": [
        {
          "output_type": "execute_result",
          "data": {
            "text/plain": [
              "(60000,)"
            ]
          },
          "metadata": {},
          "execution_count": 123
        }
      ]
    },
    {
      "cell_type": "code",
      "source": [
        "labels = [\"T-Shirt\", \"Pantalon\", \"Pullover\", \"Robe\", \"Blouson\", \"Sandale\", \"Chemise\",\n",
        "         \"Basket\", \"Sac\", \"Bottine\"]"
      ],
      "metadata": {
        "id": "cktAYlqR686j"
      },
      "execution_count": 124,
      "outputs": []
    },
    {
      "cell_type": "code",
      "source": [
        "labels [5]"
      ],
      "metadata": {
        "colab": {
          "base_uri": "https://localhost:8080/",
          "height": 36
        },
        "id": "zdObx3wk-KD8",
        "outputId": "175d17de-2cac-4f26-c3fd-508c8214dd81"
      },
      "execution_count": 125,
      "outputs": [
        {
          "output_type": "execute_result",
          "data": {
            "text/plain": [
              "'Sandale'"
            ],
            "application/vnd.google.colaboratory.intrinsic+json": {
              "type": "string"
            }
          },
          "metadata": {},
          "execution_count": 125
        }
      ]
    },
    {
      "cell_type": "code",
      "source": [
        "plt.imshow(x_train[12])\n",
        "plt.title(labels[y_train[12]])\n",
        "plt.show()"
      ],
      "metadata": {
        "colab": {
          "base_uri": "https://localhost:8080/",
          "height": 452
        },
        "id": "WCnLhZym-QgU",
        "outputId": "a14275d8-3522-4309-fc59-c1ddcff246d7"
      },
      "execution_count": 126,
      "outputs": [
        {
          "output_type": "display_data",
          "data": {
            "text/plain": [
              "<Figure size 640x480 with 1 Axes>"
            ],
            "image/png": "[encoded data removed]"
          },
          "metadata": {}
        }
      ]
    },
    {
      "cell_type": "code",
      "source": [
        "#Normalisation des données\n",
        "x_train,x_test = x_train / 255.0, x_test / 255.0"
      ],
      "metadata": {
        "id": "PpHRmLwL-9hA"
      },
      "execution_count": 127,
      "outputs": []
    },
    {
      "cell_type": "code",
      "source": [
        "x_train = x_train.reshape(60000, 784)\n",
        "x_test = x_test.reshape(10000, 784)"
      ],
      "metadata": {
        "id": "EgvdZc1D_AY6"
      },
      "execution_count": 128,
      "outputs": []
    },
    {
      "cell_type": "code",
      "source": [
        "x_train.shape, x_test.shape"
      ],
      "metadata": {
        "colab": {
          "base_uri": "https://localhost:8080/"
        },
        "id": "94roAP28_Dtx",
        "outputId": "7e156cfd-d457-4a5c-d6da-2348eae173ed"
      },
      "execution_count": 129,
      "outputs": [
        {
          "output_type": "execute_result",
          "data": {
            "text/plain": [
              "((60000, 784), (10000, 784))"
            ]
          },
          "metadata": {},
          "execution_count": 129
        }
      ]
    },
    {
      "cell_type": "markdown",
      "source": [
        "Ce code prend les étiquettes des ensembles d'entraînement et de test, et les convertit en vecteurs \"one-hot encoded\" de longueur 10 pour les préparer à être utilisées dans un modèle de réseau de neurones avec Keras.\n",
        "\n",
        "Les réseaux de neurones traitent mieux les données numériques et les vecteurs. \"One-hot encoding\" permet de transformer les catégories en un format que les réseaux de neurones peuvent traiter efficacement.\n"
      ],
      "metadata": {
        "id": "7Ij_ryzM_25U"
      }
    },
    {
      "cell_type": "code",
      "source": [
        "y_train = tf.keras.utils.to_categorical(y_train,10)\n",
        "y_test = tf.keras.utils.to_categorical(y_test,10)"
      ],
      "metadata": {
        "id": "FUxRE-4u_H-M"
      },
      "execution_count": 130,
      "outputs": []
    },
    {
      "cell_type": "code",
      "source": [
        "y_train[12]"
      ],
      "metadata": {
        "colab": {
          "base_uri": "https://localhost:8080/"
        },
        "id": "Z8GEMDy9IQyC",
        "outputId": "58bacf11-7071-458b-bb5e-24d5fbbc9dd2"
      },
      "execution_count": 131,
      "outputs": [
        {
          "output_type": "execute_result",
          "data": {
            "text/plain": [
              "array([0., 0., 0., 0., 0., 1., 0., 0., 0., 0.], dtype=float32)"
            ]
          },
          "metadata": {},
          "execution_count": 131
        }
      ]
    },
    {
      "cell_type": "markdown",
      "source": [
        "1er modele de classification"
      ],
      "metadata": {
        "id": "4uLVlv2IIqgr"
      }
    },
    {
      "cell_type": "code",
      "source": [
        "from tensorflow.keras.models import Sequential\n",
        "from tensorflow.keras.layers import Dense\n",
        "from tensorflow.keras.optimizers import SGD"
      ],
      "metadata": {
        "id": "ONlGDP3vItzC"
      },
      "execution_count": 132,
      "outputs": []
    },
    {
      "cell_type": "code",
      "source": [
        "x_train.min().min(), x_train.max()"
      ],
      "metadata": {
        "colab": {
          "base_uri": "https://localhost:8080/"
        },
        "id": "i5fMQh8WIw86",
        "outputId": "2ce98df6-5365-4a8a-ff4b-db776f708f28"
      },
      "execution_count": 133,
      "outputs": [
        {
          "output_type": "execute_result",
          "data": {
            "text/plain": [
              "(0.0, 1.0)"
            ]
          },
          "metadata": {},
          "execution_count": 133
        }
      ]
    },
    {
      "cell_type": "markdown",
      "source": [
        "Un modèle de réseau de neurones séquentiel avec deux couches denses. La première couche a 50 neurones avec activation ReLU, et la deuxième couche a 10 neurones avec activation Softmax.\n",
        "Compilation : Utilise l'erreur quadratique moyenne comme perte, la descente de gradient  comme optimiseur, et suit l'exactitude comme métrique.\n",
        "Entraînement : Entraîne le modèle pendant 10 époques avec des données de validation.\n",
        "\n"
      ],
      "metadata": {
        "id": "i6zXVMnyCZf1"
      }
    },
    {
      "cell_type": "code",
      "source": [
        "#accuracy permet de savoir le taux de bonne de classification\n",
        "model = Sequential([ Dense(units=50, activation=\"relu\"),\n",
        "                   Dense(units=10, activation=\"softmax\"),\n",
        "                ])\n",
        "model.compile(loss=\"mse\", optimizer=SGD(learning_rate=0.01), metrics=[\"accuracy\"])\n",
        "h = model.fit(x_train, y_train, epochs=10, validation_data=(x_test, y_test))\n"
      ],
      "metadata": {
        "colab": {
          "base_uri": "https://localhost:8080/"
        },
        "id": "br0gzksqNz7a",
        "outputId": "b883223d-1081-4b5e-b148-493ef9197c3c"
      },
      "execution_count": 134,
      "outputs": [
        {
          "output_type": "stream",
          "name": "stdout",
          "text": [
            "Epoch 1/10\n",
            "1875/1875 [==============================] - 6s 3ms/step - loss: 0.0798 - accuracy: 0.3686 - val_loss: 0.0704 - val_accuracy: 0.5030\n",
            "Epoch 2/10\n",
            "1875/1875 [==============================] - 4s 2ms/step - loss: 0.0632 - accuracy: 0.5567 - val_loss: 0.0570 - val_accuracy: 0.6229\n",
            "Epoch 3/10\n",
            "1875/1875 [==============================] - 4s 2ms/step - loss: 0.0525 - accuracy: 0.6439 - val_loss: 0.0497 - val_accuracy: 0.6477\n",
            "Epoch 4/10\n",
            "1875/1875 [==============================] - 5s 3ms/step - loss: 0.0472 - accuracy: 0.6622 - val_loss: 0.0458 - val_accuracy: 0.6654\n",
            "Epoch 5/10\n",
            "1875/1875 [==============================] - 4s 2ms/step - loss: 0.0439 - accuracy: 0.6828 - val_loss: 0.0431 - val_accuracy: 0.6857\n",
            "Epoch 6/10\n",
            "1875/1875 [==============================] - 4s 2ms/step - loss: 0.0415 - accuracy: 0.7065 - val_loss: 0.0411 - val_accuracy: 0.7061\n",
            "Epoch 7/10\n",
            "1875/1875 [==============================] - 5s 3ms/step - loss: 0.0395 - accuracy: 0.7303 - val_loss: 0.0393 - val_accuracy: 0.7347\n",
            "Epoch 8/10\n",
            "1875/1875 [==============================] - 4s 2ms/step - loss: 0.0378 - accuracy: 0.7520 - val_loss: 0.0377 - val_accuracy: 0.7488\n",
            "Epoch 9/10\n",
            "1875/1875 [==============================] - 4s 2ms/step - loss: 0.0363 - accuracy: 0.7666 - val_loss: 0.0364 - val_accuracy: 0.7587\n",
            "Epoch 10/10\n",
            "1875/1875 [==============================] - 5s 3ms/step - loss: 0.0350 - accuracy: 0.7772 - val_loss: 0.0352 - val_accuracy: 0.7703\n"
          ]
        }
      ]
    },
    {
      "cell_type": "markdown",
      "source": [
        " les résultats montrent une performance raisonnable avec une exactitude autour de 77%, mais l'utilisation de MSE comme fonction de perte pour un problème de classification n'est pas optimale. Passons à categorical_crossentropy pourrait améliorer la performance du modèle.\n",
        "\n",
        "\n",
        "\n",
        "Remarqe :L'utilisation de loss=\"mse\" est inhabituelle pour un problème de classification.  L'erreur quadratique moyenne est plus adaptée aux problèmes de régression."
      ],
      "metadata": {
        "id": "JxVswFMmEVOU"
      }
    },
    {
      "cell_type": "code",
      "source": [],
      "metadata": {
        "id": "_J2dRXxvEUZu"
      },
      "execution_count": null,
      "outputs": []
    },
    {
      "cell_type": "code",
      "source": [
        "#- loss: 0.0345 - accuracy: 0.7793 - val_loss: 0.0350 - val_accuracy: 0.7713\n",
        "#on a 77.93% de de reussite sur les donnees d'entrainement, sur les donnees de test on a 77.13% de reussite.\n",
        "#on peut l'ameliorer en changeant de loss (la maniere de calculer l'erreur)."
      ],
      "metadata": {
        "id": "Bq-BhteodF-M"
      },
      "execution_count": null,
      "outputs": []
    },
    {
      "cell_type": "code",
      "source": [
        "model.summary()"
      ],
      "metadata": {
        "colab": {
          "base_uri": "https://localhost:8080/"
        },
        "id": "GgUB6yfBdVT7",
        "outputId": "e29de69f-9cc6-4916-de4f-2e09d6a705fa"
      },
      "execution_count": 135,
      "outputs": [
        {
          "output_type": "stream",
          "name": "stdout",
          "text": [
            "Model: \"sequential_11\"\n",
            "_________________________________________________________________\n",
            " Layer (type)                Output Shape              Param #   \n",
            "=================================================================\n",
            " dense_27 (Dense)            (None, 50)                39250     \n",
            "                                                                 \n",
            " dense_28 (Dense)            (None, 10)                510       \n",
            "                                                                 \n",
            "=================================================================\n",
            "Total params: 39760 (155.31 KB)\n",
            "Trainable params: 39760 (155.31 KB)\n",
            "Non-trainable params: 0 (0.00 Byte)\n",
            "_________________________________________________________________\n"
          ]
        }
      ]
    },
    {
      "cell_type": "markdown",
      "source": [
        "Les résultats du modèle summary fournissent des informations détaillées sur l'architecture du modèle.\n",
        "\n",
        "Layer  : Le type de couche utilisée.\n",
        "\n",
        "Output Shape : La forme de sortie de chaque couche.\n",
        "\n",
        "Param # : Le nombre de paramètres entraînables dans chaque couche.\n",
        "\n",
        "Le modèle consiste en deux couches denses :\n",
        "\n",
        "Première couche dense avec 50 neurones, activée par la fonction ReLU et ayant 39,250 paramètres.\n",
        "Deuxième couche dense avec 10 neurones, activée par la fonction Softmax pour la classification, et ayant 510 paramètres.\n",
        "Le total des paramètres entraînables est de 39,760, et il n'y a pas de paramètres non entraînables. Ces détails permettent de comprendre la complexité du modèle et le nombre de paramètres qui seront ajustés pendant l'entraînement."
      ],
      "metadata": {
        "id": "lwOQck88ICxm"
      }
    },
    {
      "cell_type": "code",
      "source": [],
      "metadata": {
        "id": "jjD0SJFwIBtu"
      },
      "execution_count": 115,
      "outputs": []
    },
    {
      "cell_type": "code",
      "source": [],
      "metadata": {
        "id": "wqOJzvOvI4m1"
      },
      "execution_count": null,
      "outputs": []
    },
    {
      "cell_type": "code",
      "source": [
        "def plot_loss_curve(history):\n",
        "\n",
        "\n",
        "  plt.plot(list(range(len(history['loss']))), history['loss'], label = \"loss\")\n",
        "  plt.plot(list(range(len(history['val_loss']))), history['val_loss'], label=\"val_loss\")\n",
        "  plt.xlabel('Epochs')\n",
        "  plt.ylabel(\"Loss\")\n",
        "  plt.title(\"Loss Curve\")\n",
        "  plt.legend(loc='upper right')\n",
        "  plt.show()\n",
        "\n",
        "def plot_accuracy_curve(history):\n",
        "\n",
        "\n",
        "  plt.plot(list(range(len(history['accuracy']))), history['accuracy'], label = \"accuracy\")\n",
        "  plt.plot(list(range(len(history['val_accuracy']))), history['val_accuracy'], label=\"val_accuracy\")\n",
        "  plt.xlabel('Epochs')\n",
        "  plt.ylabel(\"accuracy\")\n",
        "  plt.title(\"Accuracy Curve\")\n",
        "  plt.legend(loc='upper right')\n",
        "  plt.show()"
      ],
      "metadata": {
        "id": "tHzNojFOdfBK"
      },
      "execution_count": 136,
      "outputs": []
    },
    {
      "cell_type": "code",
      "source": [
        "plot_loss_curve(h.history)\n",
        "plot_accuracy_curve(h.history)"
      ],
      "metadata": {
        "colab": {
          "base_uri": "https://localhost:8080/",
          "height": 927
        },
        "id": "f4gGw_8admHb",
        "outputId": "423041e8-fd33-4975-9a2a-0f2ec41ee841"
      },
      "execution_count": 137,
      "outputs": [
        {
          "output_type": "display_data",
          "data": {
            "text/plain": [
              "<Figure size 640x480 with 1 Axes>"
            ],
            "image/png": "[encoded data removed]"
          },
          "metadata": {}
        },
        {
          "output_type": "display_data",
          "data": {
            "text/plain": [
              "<Figure size 640x480 with 1 Axes>"
            ],
            "image/png": "[encoded data removed]"
          },
          "metadata": {}
        }
      ]
    },
    {
      "cell_type": "markdown",
      "source": [
        "##2e modele avec cross entropy\n",
        "\n",
        "Le modèle est mieux adapté pour la tâche de classification, et les performances devraient être meilleures par rapport à l'utilisation de MSE."
      ],
      "metadata": {
        "id": "6pKi8TFTL_QO"
      }
    },
    {
      "cell_type": "markdown",
      "source": [
        "La sortie de la fonction sigmoïde est toujours comprise entre 0 et 1, ce qui est utile pour normaliser les sorties des neurones.\n",
        "\n",
        "En limitant les sorties des neurones entre 0 et 1, la fonction sigmoïde aide à stabiliser l'entraînement et à maintenir les valeurs de sortie dans une plage raisonnable."
      ],
      "metadata": {
        "id": "gUFavhebQFE-"
      }
    },
    {
      "cell_type": "code",
      "source": [
        "#entrainement avce Cross entropy\n",
        "model = Sequential([ Dense(units=784, activation=\"sigmoid\"),\n",
        "                   Dense(units=10, activation=\"softmax\"),\n",
        "                ])\n",
        "model.compile(loss=\"categorical_crossentropy\", optimizer=SGD(learning_rate=0.01), metrics=[\"accuracy\"])\n",
        "h = model.fit(x_train, y_train, epochs=10, validation_data=(x_test, y_test))\n",
        ""
      ],
      "metadata": {
        "colab": {
          "base_uri": "https://localhost:8080/"
        },
        "id": "dvPSuz7Gdt5b",
        "outputId": "70c747f2-9f22-4f08-f010-20ea6be89f97"
      },
      "execution_count": 138,
      "outputs": [
        {
          "output_type": "stream",
          "name": "stdout",
          "text": [
            "Epoch 1/10\n",
            "1875/1875 [==============================] - 17s 9ms/step - loss: 1.1214 - accuracy: 0.6776 - val_loss: 0.7891 - val_accuracy: 0.7455\n",
            "Epoch 2/10\n",
            "1875/1875 [==============================] - 14s 8ms/step - loss: 0.6994 - accuracy: 0.7634 - val_loss: 0.6614 - val_accuracy: 0.7670\n",
            "Epoch 3/10\n",
            "1875/1875 [==============================] - 13s 7ms/step - loss: 0.6173 - accuracy: 0.7859 - val_loss: 0.6055 - val_accuracy: 0.7843\n",
            "Epoch 4/10\n",
            "1875/1875 [==============================] - 14s 8ms/step - loss: 0.5728 - accuracy: 0.8009 - val_loss: 0.5740 - val_accuracy: 0.7968\n",
            "Epoch 5/10\n",
            "1875/1875 [==============================] - 14s 8ms/step - loss: 0.5436 - accuracy: 0.8105 - val_loss: 0.5569 - val_accuracy: 0.7997\n",
            "Epoch 6/10\n",
            "1875/1875 [==============================] - 15s 8ms/step - loss: 0.5230 - accuracy: 0.8174 - val_loss: 0.5345 - val_accuracy: 0.8089\n",
            "Epoch 7/10\n",
            "1875/1875 [==============================] - 13s 7ms/step - loss: 0.5074 - accuracy: 0.8224 - val_loss: 0.5212 - val_accuracy: 0.8146\n",
            "Epoch 8/10\n",
            "1875/1875 [==============================] - 13s 7ms/step - loss: 0.4949 - accuracy: 0.8260 - val_loss: 0.5137 - val_accuracy: 0.8163\n",
            "Epoch 9/10\n",
            "1875/1875 [==============================] - 13s 7ms/step - loss: 0.4854 - accuracy: 0.8302 - val_loss: 0.5040 - val_accuracy: 0.8197\n",
            "Epoch 10/10\n",
            "1875/1875 [==============================] - 13s 7ms/step - loss: 0.4759 - accuracy: 0.8348 - val_loss: 0.5075 - val_accuracy: 0.8178\n"
          ]
        }
      ]
    },
    {
      "cell_type": "markdown",
      "source": [],
      "metadata": {
        "id": "-awiB5bUUHy-"
      }
    },
    {
      "cell_type": "markdown",
      "source": [
        "loss: 0.4773 - accuracy: 0.8327 - val_loss: 0.5021 - val_accuracy: 0.8202\n",
        "\n",
        "Les résultats montrent que le modèle a une performance raisonnablement bonne avec une exactitude supérieure à 80% sur les ensembles d'entraînement et de validation. L'utilisation de categorical_crossentropy comme fonction de perte a amélioré la performance du modèle par rapport à l'utilisation de mse dans le premier modèle. Le modèle semble généraliser bien, avec une perte de validation légèrement supérieure à la perte d'entraînement, ce qui est un comportement attendu et souhaitable.\n",
        "\n",
        "\n",
        "Remarque : Pour des réseaux plus profonds ou pour améliorer la vitesse de convergence, des alternatives comme ReLU (Rectified Linear Unit) sont souvent utilisées. ReLU ne souffre pas du problème de gradient évanescent et tend à accélérer l'apprentissage."
      ],
      "metadata": {
        "id": "aYWk-iF9PFxk"
      }
    },
    {
      "cell_type": "code",
      "source": [],
      "metadata": {
        "id": "pgnj1aGpXbNv"
      },
      "execution_count": 138,
      "outputs": []
    },
    {
      "cell_type": "markdown",
      "source": [
        "##3e modele de classification\n",
        "\n",
        "Les modèles utilisant ReLU montrent une meilleure performance en termes d'exactitude et de rapidité de convergence par rapport aux modèles utilisant des fonctions d'activation sigmoïde ou tanh."
      ],
      "metadata": {
        "id": "XiyA7kkfUJJ_"
      }
    },
    {
      "cell_type": "markdown",
      "source": [
        "les modèles utilisant ReLU montrent une meilleure performance en termes d'exactitude et de rapidité de convergence par rapport aux modèles utilisant des fonctions d'activation sigmoïde ou tanh.\n",
        "\n",
        "La sortie de ReLU est 0 pour les entrées négatives et égale à l'entrée pour les entrées positives.\n",
        "eLU permet au modèle de converger plus rapidement pendant l'entraînement en atténuant le problème de gradient évanescent."
      ],
      "metadata": {
        "id": "iPM56zhxZdZf"
      }
    },
    {
      "cell_type": "code",
      "source": [],
      "metadata": {
        "id": "aZ2YEiqsZkLm"
      },
      "execution_count": null,
      "outputs": []
    },
    {
      "cell_type": "code",
      "source": [
        "#entrainement avec Relu\n",
        "model = Sequential([ Dense(units=784, activation=\"relu\"),\n",
        "                   Dense(units=10, activation=\"softmax\"),\n",
        "                ])\n",
        "model.compile(loss=\"categorical_crossentropy\", optimizer=SGD(learning_rate=0.01), metrics=[\"accuracy\"])\n",
        "h = model.fit(x_train, y_train, epochs=20, validation_data=(x_test, y_test))\n",
        ""
      ],
      "metadata": {
        "colab": {
          "base_uri": "https://localhost:8080/"
        },
        "id": "sIjJ86GCfcgs",
        "outputId": "cf93cc63-2ffe-4cb3-915f-1b02e4f4c000"
      },
      "execution_count": 75,
      "outputs": [
        {
          "output_type": "stream",
          "name": "stdout",
          "text": [
            "Epoch 1/20\n",
            "1875/1875 [==============================] - 13s 7ms/step - loss: 0.6969 - accuracy: 0.7766 - val_loss: 0.5625 - val_accuracy: 0.8027\n",
            "Epoch 2/20\n",
            "1875/1875 [==============================] - 12s 6ms/step - loss: 0.4942 - accuracy: 0.8317 - val_loss: 0.4910 - val_accuracy: 0.8307\n",
            "Epoch 3/20\n",
            "1875/1875 [==============================] - 11s 6ms/step - loss: 0.4529 - accuracy: 0.8444 - val_loss: 0.4743 - val_accuracy: 0.8290\n",
            "Epoch 4/20\n",
            "1875/1875 [==============================] - 12s 6ms/step - loss: 0.4282 - accuracy: 0.8536 - val_loss: 0.4723 - val_accuracy: 0.8320\n",
            "Epoch 5/20\n",
            "1875/1875 [==============================] - 12s 6ms/step - loss: 0.4110 - accuracy: 0.8574 - val_loss: 0.4437 - val_accuracy: 0.8431\n",
            "Epoch 6/20\n",
            "1875/1875 [==============================] - 12s 6ms/step - loss: 0.3969 - accuracy: 0.8627 - val_loss: 0.4197 - val_accuracy: 0.8522\n",
            "Epoch 7/20\n",
            "1875/1875 [==============================] - 12s 6ms/step - loss: 0.3854 - accuracy: 0.8663 - val_loss: 0.4133 - val_accuracy: 0.8515\n",
            "Epoch 8/20\n",
            "1875/1875 [==============================] - 12s 6ms/step - loss: 0.3753 - accuracy: 0.8696 - val_loss: 0.4055 - val_accuracy: 0.8563\n",
            "Epoch 9/20\n",
            "1875/1875 [==============================] - 12s 6ms/step - loss: 0.3661 - accuracy: 0.8726 - val_loss: 0.4043 - val_accuracy: 0.8558\n",
            "Epoch 10/20\n",
            "1875/1875 [==============================] - 11s 6ms/step - loss: 0.3580 - accuracy: 0.8755 - val_loss: 0.4136 - val_accuracy: 0.8525\n",
            "Epoch 11/20\n",
            "1875/1875 [==============================] - 11s 6ms/step - loss: 0.3507 - accuracy: 0.8795 - val_loss: 0.4021 - val_accuracy: 0.8586\n",
            "Epoch 12/20\n",
            "1875/1875 [==============================] - 12s 7ms/step - loss: 0.3431 - accuracy: 0.8798 - val_loss: 0.3963 - val_accuracy: 0.8599\n",
            "Epoch 13/20\n",
            "1875/1875 [==============================] - 12s 7ms/step - loss: 0.3375 - accuracy: 0.8816 - val_loss: 0.3777 - val_accuracy: 0.8675\n",
            "Epoch 14/20\n",
            "1875/1875 [==============================] - 12s 7ms/step - loss: 0.3318 - accuracy: 0.8831 - val_loss: 0.3792 - val_accuracy: 0.8662\n",
            "Epoch 15/20\n",
            "1875/1875 [==============================] - 12s 6ms/step - loss: 0.3256 - accuracy: 0.8854 - val_loss: 0.3818 - val_accuracy: 0.8607\n",
            "Epoch 16/20\n",
            "1875/1875 [==============================] - 12s 6ms/step - loss: 0.3208 - accuracy: 0.8877 - val_loss: 0.3873 - val_accuracy: 0.8614\n",
            "Epoch 17/20\n",
            "1875/1875 [==============================] - 10s 6ms/step - loss: 0.3156 - accuracy: 0.8892 - val_loss: 0.3666 - val_accuracy: 0.8677\n",
            "Epoch 18/20\n",
            "1875/1875 [==============================] - 12s 6ms/step - loss: 0.3106 - accuracy: 0.8905 - val_loss: 0.3610 - val_accuracy: 0.8692\n",
            "Epoch 19/20\n",
            "1875/1875 [==============================] - 12s 6ms/step - loss: 0.3060 - accuracy: 0.8920 - val_loss: 0.3660 - val_accuracy: 0.8726\n",
            "Epoch 20/20\n",
            "1875/1875 [==============================] - 14s 7ms/step - loss: 0.3015 - accuracy: 0.8941 - val_loss: 0.3573 - val_accuracy: 0.8736\n"
          ]
        }
      ]
    },
    {
      "cell_type": "markdown",
      "source": [
        "loss: 0.3015 - accuracy: 0.8941 - val_loss: 0.3573 - val_accuracy: 0.8736\n",
        "\n",
        "Le modèle utilise la fonction d'activation ReLU dans la première couche dense, ce qui permet une meilleure convergence et une performance améliorée par rapport à la fonction d'activation sigmoïde. Entraîner le modèle pendant 20 époques permet de mieux ajuster les poids, mais il est essentiel de surveiller les performances pour éviter la sur-adaptation."
      ],
      "metadata": {
        "id": "KxTfG9G8VBTg"
      }
    },
    {
      "cell_type": "code",
      "source": [
        "model.summary()"
      ],
      "metadata": {
        "colab": {
          "base_uri": "https://localhost:8080/"
        },
        "id": "qpPtyP41g8_H",
        "outputId": "25a1af21-4bad-4049-a135-7a4d52326132"
      },
      "execution_count": 76,
      "outputs": [
        {
          "output_type": "stream",
          "name": "stdout",
          "text": [
            "Model: \"sequential_4\"\n",
            "_________________________________________________________________\n",
            " Layer (type)                Output Shape              Param #   \n",
            "=================================================================\n",
            " dense_9 (Dense)             (None, 784)               615440    \n",
            "                                                                 \n",
            " dense_10 (Dense)            (None, 10)                7850      \n",
            "                                                                 \n",
            "=================================================================\n",
            "Total params: 623290 (2.38 MB)\n",
            "Trainable params: 623290 (2.38 MB)\n",
            "Non-trainable params: 0 (0.00 Byte)\n",
            "_________________________________________________________________\n"
          ]
        }
      ]
    },
    {
      "cell_type": "markdown",
      "source": [
        "##Troisième Couche Dense\n",
        "\n",
        "Le modèle a été modifié pour inclure une troisième couche dense avec 128 neurones et une activation ReLU.\n",
        "\n",
        "Choisir 128 neurones dans une couche cachée est un compromis courant. Il n'est ni trop petit pour ne pas apprendre les caractéristiques nécessaires, ni trop grand pour éviter un modèle sur-complexe qui pourrait sur-adapter les données d'entraînement."
      ],
      "metadata": {
        "id": "aiDjvJbGZ9K-"
      }
    },
    {
      "cell_type": "markdown",
      "source": [
        "Ce nombre 128 est souvent utilisé dans la pratique car c'est une puissance de 2, ce qui peut être bénéfique en termes d'efficacité computationnelle sur certains matériels, mais cela n'a pas de conséquence directe sur les performances du modèle en termes d'apprentissage."
      ],
      "metadata": {
        "id": "E7RImD2Jbtkk"
      }
    },
    {
      "cell_type": "code",
      "source": [
        "#on est passé à 3 couches\n",
        "model = Sequential([ Dense(units=784, activation=\"relu\"),\n",
        "                    Dense(units=128, activation=\"relu\"),\n",
        "                   Dense(units=10, activation=\"softmax\"),\n",
        "                ])\n",
        "model.compile(loss=\"categorical_crossentropy\", optimizer=SGD(learning_rate=0.01), metrics=[\"accuracy\"])\n",
        "h = model.fit(x_train, y_train, epochs=20, validation_data=(x_test, y_test))\n",
        ""
      ],
      "metadata": {
        "colab": {
          "base_uri": "https://localhost:8080/"
        },
        "id": "tdDUFwjwhFyD",
        "outputId": "18d49aee-46dd-4ef4-cffe-32bd8ecefddc"
      },
      "execution_count": 77,
      "outputs": [
        {
          "output_type": "stream",
          "name": "stdout",
          "text": [
            "Epoch 1/20\n",
            "1875/1875 [==============================] - 17s 8ms/step - loss: 0.6709 - accuracy: 0.7815 - val_loss: 0.5183 - val_accuracy: 0.8232\n",
            "Epoch 2/20\n",
            "1875/1875 [==============================] - 14s 7ms/step - loss: 0.4654 - accuracy: 0.8385 - val_loss: 0.4726 - val_accuracy: 0.8345\n",
            "Epoch 3/20\n",
            "1875/1875 [==============================] - 14s 7ms/step - loss: 0.4230 - accuracy: 0.8529 - val_loss: 0.4350 - val_accuracy: 0.8475\n",
            "Epoch 4/20\n",
            "1875/1875 [==============================] - 15s 8ms/step - loss: 0.3962 - accuracy: 0.8610 - val_loss: 0.4127 - val_accuracy: 0.8540\n",
            "Epoch 5/20\n",
            "1875/1875 [==============================] - 14s 7ms/step - loss: 0.3776 - accuracy: 0.8677 - val_loss: 0.4016 - val_accuracy: 0.8579\n",
            "Epoch 6/20\n",
            "1875/1875 [==============================] - 14s 7ms/step - loss: 0.3618 - accuracy: 0.8715 - val_loss: 0.3948 - val_accuracy: 0.8605\n",
            "Epoch 7/20\n",
            "1875/1875 [==============================] - 15s 8ms/step - loss: 0.3474 - accuracy: 0.8774 - val_loss: 0.3818 - val_accuracy: 0.8659\n",
            "Epoch 8/20\n",
            "1875/1875 [==============================] - 15s 8ms/step - loss: 0.3367 - accuracy: 0.8800 - val_loss: 0.3840 - val_accuracy: 0.8623\n",
            "Epoch 9/20\n",
            "1875/1875 [==============================] - 14s 8ms/step - loss: 0.3258 - accuracy: 0.8835 - val_loss: 0.4016 - val_accuracy: 0.8563\n",
            "Epoch 10/20\n",
            "1875/1875 [==============================] - 14s 7ms/step - loss: 0.3179 - accuracy: 0.8855 - val_loss: 0.3739 - val_accuracy: 0.8652\n",
            "Epoch 11/20\n",
            "1875/1875 [==============================] - 14s 8ms/step - loss: 0.3080 - accuracy: 0.8895 - val_loss: 0.3577 - val_accuracy: 0.8722\n",
            "Epoch 12/20\n",
            "1875/1875 [==============================] - 14s 8ms/step - loss: 0.3009 - accuracy: 0.8914 - val_loss: 0.3540 - val_accuracy: 0.8725\n",
            "Epoch 13/20\n",
            "1875/1875 [==============================] - 14s 8ms/step - loss: 0.2942 - accuracy: 0.8944 - val_loss: 0.3837 - val_accuracy: 0.8585\n",
            "Epoch 14/20\n",
            "1875/1875 [==============================] - 14s 7ms/step - loss: 0.2870 - accuracy: 0.8966 - val_loss: 0.3524 - val_accuracy: 0.8749\n",
            "Epoch 15/20\n",
            "1875/1875 [==============================] - 14s 8ms/step - loss: 0.2801 - accuracy: 0.8988 - val_loss: 0.3496 - val_accuracy: 0.8759\n",
            "Epoch 16/20\n",
            "1875/1875 [==============================] - 14s 8ms/step - loss: 0.2747 - accuracy: 0.9003 - val_loss: 0.3533 - val_accuracy: 0.8734\n",
            "Epoch 17/20\n",
            "1875/1875 [==============================] - 14s 7ms/step - loss: 0.2678 - accuracy: 0.9028 - val_loss: 0.3309 - val_accuracy: 0.8825\n",
            "Epoch 18/20\n",
            "1875/1875 [==============================] - 14s 7ms/step - loss: 0.2627 - accuracy: 0.9047 - val_loss: 0.3401 - val_accuracy: 0.8748\n",
            "Epoch 19/20\n",
            "1875/1875 [==============================] - 14s 8ms/step - loss: 0.2568 - accuracy: 0.9069 - val_loss: 0.3290 - val_accuracy: 0.8828\n",
            "Epoch 20/20\n",
            "1875/1875 [==============================] - 14s 8ms/step - loss: 0.2520 - accuracy: 0.9089 - val_loss: 0.3400 - val_accuracy: 0.8760\n"
          ]
        }
      ]
    },
    {
      "cell_type": "code",
      "source": [
        "model.summary()"
      ],
      "metadata": {
        "colab": {
          "base_uri": "https://localhost:8080/"
        },
        "id": "3cF36zWRi4gk",
        "outputId": "fd0ab3c6-ced1-4438-9857-cf8d1bfa848b"
      },
      "execution_count": 78,
      "outputs": [
        {
          "output_type": "stream",
          "name": "stdout",
          "text": [
            "Model: \"sequential_5\"\n",
            "_________________________________________________________________\n",
            " Layer (type)                Output Shape              Param #   \n",
            "=================================================================\n",
            " dense_11 (Dense)            (None, 784)               615440    \n",
            "                                                                 \n",
            " dense_12 (Dense)            (None, 128)               100480    \n",
            "                                                                 \n",
            " dense_13 (Dense)            (None, 10)                1290      \n",
            "                                                                 \n",
            "=================================================================\n",
            "Total params: 717210 (2.74 MB)\n",
            "Trainable params: 717210 (2.74 MB)\n",
            "Non-trainable params: 0 (0.00 Byte)\n",
            "_________________________________________________________________\n"
          ]
        }
      ]
    },
    {
      "cell_type": "code",
      "source": [
        "plot_loss_curve(h.history)\n",
        "plot_accuracy_curve(h.history)"
      ],
      "metadata": {
        "colab": {
          "base_uri": "https://localhost:8080/",
          "height": 927
        },
        "id": "9rDS_a68i7LU",
        "outputId": "7b2934b4-8a38-4d7c-b714-8f9f3f48a17a"
      },
      "execution_count": 79,
      "outputs": [
        {
          "output_type": "display_data",
          "data": {
            "text/plain": [
              "<Figure size 640x480 with 1 Axes>"
            ],
            "image/png": "[encoded data removed]"
          },
          "metadata": {}
        },
        {
          "output_type": "display_data",
          "data": {
            "text/plain": [
              "<Figure size 640x480 with 1 Axes>"
            ],
            "image/png": "[encoded data removed]"
          },
          "metadata": {}
        }
      ]
    },
    {
      "cell_type": "code",
      "source": [
        "#On a un ecart qui se creuse entre le val_accuracy et Accuracy de l'entrainement, Quand on a un gros écart e ntre les donnees d'entrainement et les donnees de test.\n",
        "#loss: 0.2520 - accuracy: 0.9089 - val_loss: 0.3400 - val_accuracy: 0.8760 Quand les donnees d'entrainement devient superieures on donnees de test, on a un overfitting"
      ],
      "metadata": {
        "id": "E1NsfqtXjCTT"
      },
      "execution_count": 80,
      "outputs": []
    },
    {
      "cell_type": "markdown",
      "source": [
        "overfitting :\n",
        "\n",
        "En pratique, un modèle qui overfit est souvent très facile à détecter. L’overfitting intervient lorsque l’erreur sur les données de test devient croissante. Typiquement, si l’erreur sur les données d’entraînements est beaucoup plus faible que celle sur les données de test, c’est sans doute que votre modèle a trop appris des données"
      ],
      "metadata": {
        "id": "INeuwUTrjPM-"
      }
    },
    {
      "cell_type": "markdown",
      "source": [
        "##Combattre l'overfitting avec Dropout\n",
        "\n",
        "L'une des principales utilisations du dropout est de réduire le sur-apprentissage en introduisant du bruit et de la redondance dans le modèle pendant l'entraînement. Dans le contexte de ce modèle de classification avec trois couches, le dropout être appliqué entre les couches dense pour empêcher le réseau de devenir trop dépendant de certaines activations spécifiques des neurones."
      ],
      "metadata": {
        "id": "rMADEc3ojU67"
      }
    },
    {
      "cell_type": "code",
      "source": [
        "#Ce code crée une couche Dropout avec un taux de dropout de 0,5\n",
        "#et spécifie que cette couche est la première couche du modèle\n",
        "#avec une entrée bidimensionnelle de forme (2,).\n",
        "dropout = tf.keras.layers.Dropout(0.5, input_shape=(2,))"
      ],
      "metadata": {
        "id": "OVMfTF02jTvU"
      },
      "execution_count": 81,
      "outputs": []
    },
    {
      "cell_type": "code",
      "source": [
        "x = np.arange(1,11).reshape(5, 2).astype(np.float32)"
      ],
      "metadata": {
        "id": "smtO95yNjb-1"
      },
      "execution_count": 82,
      "outputs": []
    },
    {
      "cell_type": "code",
      "source": [
        "tf.keras.layers.Dropout"
      ],
      "metadata": {
        "colab": {
          "base_uri": "https://localhost:8080/",
          "height": 186
        },
        "id": "KHSId2VHjjAP",
        "outputId": "00007f19-532f-4334-911b-a392097dc1de"
      },
      "execution_count": 83,
      "outputs": [
        {
          "output_type": "execute_result",
          "data": {
            "text/plain": [
              "keras.src.layers.regularization.dropout.Dropout"
            ],
            "text/html": [
              "<div style=\"max-width:800px; border: 1px solid var(--colab-border-color);\"><style>\n",
              "      pre.function-repr-contents {\n",
              "        overflow-x: auto;\n",
              "        padding: 8px 12px;\n",
              "        max-height: 500px;\n",
              "      }\n",
              "\n",
              "      pre.function-repr-contents.function-repr-contents-collapsed {\n",
              "        cursor: pointer;\n",
              "        max-height: 100px;\n",
              "      }\n",
              "    </style>\n",
              "    <pre style=\"white-space: initial; background:\n",
              "         var(--colab-secondary-surface-color); padding: 8px 12px;\n",
              "         border-bottom: 1px solid var(--colab-border-color);\"><b>keras.src.layers.regularization.dropout.Dropout</b><br/>def error_handler(*args, **kwargs)</pre><pre class=\"function-repr-contents function-repr-contents-collapsed\" style=\"\"><a class=\"filepath\" style=\"display:none\" href=\"#\">/usr/local/lib/python3.10/dist-packages/keras/src/layers/regularization/dropout.py</a>Applies Dropout to the input.\n",
              "\n",
              "The Dropout layer randomly sets input units to 0 with a frequency of `rate`\n",
              "at each step during training time, which helps prevent overfitting.\n",
              "Inputs not set to 0 are scaled up by 1/(1 - rate) such that the sum over\n",
              "all inputs is unchanged.\n",
              "\n",
              "Note that the Dropout layer only applies when `training` is set to True\n",
              "such that no values are dropped during inference. When using `model.fit`,\n",
              "`training` will be appropriately set to True automatically, and in other\n",
              "contexts, you can set the kwarg explicitly to True when calling the layer.\n",
              "\n",
              "(This is in contrast to setting `trainable=False` for a Dropout layer.\n",
              "`trainable` does not affect the layer&#x27;s behavior, as Dropout does\n",
              "not have any variables/weights that can be frozen during training.)\n",
              "\n",
              "&gt;&gt;&gt; tf.random.set_seed(0)\n",
              "&gt;&gt;&gt; layer = tf.keras.layers.Dropout(.2, input_shape=(2,))\n",
              "&gt;&gt;&gt; data = np.arange(10).reshape(5, 2).astype(np.float32)\n",
              "&gt;&gt;&gt; print(data)\n",
              "[[0. 1.]\n",
              " [2. 3.]\n",
              " [4. 5.]\n",
              " [6. 7.]\n",
              " [8. 9.]]\n",
              "&gt;&gt;&gt; outputs = layer(data, training=True)\n",
              "&gt;&gt;&gt; print(outputs)\n",
              "tf.Tensor(\n",
              "[[ 0.    1.25]\n",
              " [ 2.5   3.75]\n",
              " [ 5.    6.25]\n",
              " [ 7.5   8.75]\n",
              " [10.    0.  ]], shape=(5, 2), dtype=float32)\n",
              "\n",
              "Args:\n",
              "  rate: Float between 0 and 1. Fraction of the input units to drop.\n",
              "  noise_shape: 1D integer tensor representing the shape of the\n",
              "    binary dropout mask that will be multiplied with the input.\n",
              "    For instance, if your inputs have shape\n",
              "    `(batch_size, timesteps, features)` and\n",
              "    you want the dropout mask to be the same for all timesteps,\n",
              "    you can use `noise_shape=(batch_size, 1, features)`.\n",
              "  seed: A Python integer to use as random seed.\n",
              "\n",
              "Call arguments:\n",
              "  inputs: Input tensor (of any rank).\n",
              "  training: Python boolean indicating whether the layer should behave in\n",
              "    training mode (adding dropout) or in inference mode (doing nothing).</pre>\n",
              "      <script>\n",
              "      if (google.colab.kernel.accessAllowed && google.colab.files && google.colab.files.view) {\n",
              "        for (const element of document.querySelectorAll('.filepath')) {\n",
              "          element.style.display = 'block'\n",
              "          element.onclick = (event) => {\n",
              "            event.preventDefault();\n",
              "            event.stopPropagation();\n",
              "            google.colab.files.view(element.textContent, 29);\n",
              "          };\n",
              "        }\n",
              "      }\n",
              "      for (const element of document.querySelectorAll('.function-repr-contents')) {\n",
              "        element.onclick = (event) => {\n",
              "          event.preventDefault();\n",
              "          event.stopPropagation();\n",
              "          element.classList.toggle('function-repr-contents-collapsed');\n",
              "        };\n",
              "      }\n",
              "      </script>\n",
              "      </div>"
            ]
          },
          "metadata": {},
          "execution_count": 83
        }
      ]
    },
    {
      "cell_type": "code",
      "source": [
        "x"
      ],
      "metadata": {
        "colab": {
          "base_uri": "https://localhost:8080/"
        },
        "id": "GC4ODeaPjodN",
        "outputId": "c687b53c-2d8c-4cf4-e369-4e285f5999cf"
      },
      "execution_count": 84,
      "outputs": [
        {
          "output_type": "execute_result",
          "data": {
            "text/plain": [
              "array([[ 1.,  2.],\n",
              "       [ 3.,  4.],\n",
              "       [ 5.,  6.],\n",
              "       [ 7.,  8.],\n",
              "       [ 9., 10.]], dtype=float32)"
            ]
          },
          "metadata": {},
          "execution_count": 84
        }
      ]
    },
    {
      "cell_type": "markdown",
      "source": [
        "Le dropout agit comme une forme de régularisation en forçant le modèle à apprendre des représentations robustes des données. En désactivant aléatoirement certains neurones pendant l'entraînement, le dropout oblige les autres neurones à prendre le relais et à apprendre des caractéristiques plus générales, ce qui peut conduire à une meilleure généralisation.\n",
        "\n",
        "Pour appliquer le dropout à ce modèle, on peut ajouter des couches Dropout entre les couches Dense. Par exemple, on ajoute une couche Dropout avec un taux de dropout de 0,5 et un autre de 0,3 entre chaque couche Dense.Cela signifie qu'à chaque passage en avant pendant l'entraînement, chaque neurone de cette couche a une probabilité de 0.5 d'être désactivé. et 0.3 pour le suivant."
      ],
      "metadata": {
        "id": "uo_0p1eUhIMw"
      }
    },
    {
      "cell_type": "code",
      "source": [
        "#combattre l'overfitting avec dropout\n",
        "model = Sequential([ Dense(units=784, activation=\"relu\"),\n",
        "                    tf.keras.layers.Dropout(0.5),\n",
        "                    Dense(units=128, activation=\"relu\"),\n",
        "                     tf.keras.layers.Dropout(0.3),\n",
        "                   Dense(units=10, activation=\"softmax\"),\n",
        "                ])\n",
        "model.compile(loss=\"categorical_crossentropy\", optimizer=SGD(learning_rate=0.01), metrics=[\"accuracy\"])\n",
        "h = model.fit(x_train, y_train, epochs=20, validation_data=(x_test, y_test))"
      ],
      "metadata": {
        "colab": {
          "base_uri": "https://localhost:8080/"
        },
        "id": "Ut1axGVHjqR7",
        "outputId": "168d1c6a-bdbc-4449-ab44-14ebe938ed1a"
      },
      "execution_count": 85,
      "outputs": [
        {
          "output_type": "stream",
          "name": "stdout",
          "text": [
            "Epoch 1/20\n",
            "1875/1875 [==============================] - 15s 8ms/step - loss: 0.8564 - accuracy: 0.7043 - val_loss: 0.5568 - val_accuracy: 0.8014\n",
            "Epoch 2/20\n",
            "1875/1875 [==============================] - 15s 8ms/step - loss: 0.5750 - accuracy: 0.7997 - val_loss: 0.4853 - val_accuracy: 0.8272\n",
            "Epoch 3/20\n",
            "1875/1875 [==============================] - 14s 8ms/step - loss: 0.5115 - accuracy: 0.8209 - val_loss: 0.4563 - val_accuracy: 0.8360\n",
            "Epoch 4/20\n",
            "1875/1875 [==============================] - 15s 8ms/step - loss: 0.4748 - accuracy: 0.8319 - val_loss: 0.4395 - val_accuracy: 0.8403\n",
            "Epoch 5/20\n",
            "1875/1875 [==============================] - 15s 8ms/step - loss: 0.4492 - accuracy: 0.8391 - val_loss: 0.4161 - val_accuracy: 0.8494\n",
            "Epoch 6/20\n",
            "1875/1875 [==============================] - 16s 8ms/step - loss: 0.4305 - accuracy: 0.8466 - val_loss: 0.4060 - val_accuracy: 0.8530\n",
            "Epoch 7/20\n",
            "1875/1875 [==============================] - 14s 8ms/step - loss: 0.4159 - accuracy: 0.8515 - val_loss: 0.3929 - val_accuracy: 0.8558\n",
            "Epoch 8/20\n",
            "1875/1875 [==============================] - 15s 8ms/step - loss: 0.4036 - accuracy: 0.8557 - val_loss: 0.3862 - val_accuracy: 0.8604\n",
            "Epoch 9/20\n",
            "1875/1875 [==============================] - 15s 8ms/step - loss: 0.3937 - accuracy: 0.8586 - val_loss: 0.3800 - val_accuracy: 0.8613\n",
            "Epoch 10/20\n",
            "1875/1875 [==============================] - 15s 8ms/step - loss: 0.3842 - accuracy: 0.8629 - val_loss: 0.3776 - val_accuracy: 0.8645\n",
            "Epoch 11/20\n",
            "1875/1875 [==============================] - 15s 8ms/step - loss: 0.3764 - accuracy: 0.8658 - val_loss: 0.3685 - val_accuracy: 0.8670\n",
            "Epoch 12/20\n",
            "1875/1875 [==============================] - 15s 8ms/step - loss: 0.3694 - accuracy: 0.8673 - val_loss: 0.3645 - val_accuracy: 0.8681\n",
            "Epoch 13/20\n",
            "1875/1875 [==============================] - 15s 8ms/step - loss: 0.3592 - accuracy: 0.8712 - val_loss: 0.3620 - val_accuracy: 0.8692\n",
            "Epoch 14/20\n",
            "1875/1875 [==============================] - 15s 8ms/step - loss: 0.3579 - accuracy: 0.8727 - val_loss: 0.3541 - val_accuracy: 0.8706\n",
            "Epoch 15/20\n",
            "1875/1875 [==============================] - 15s 8ms/step - loss: 0.3480 - accuracy: 0.8752 - val_loss: 0.3552 - val_accuracy: 0.8692\n",
            "Epoch 16/20\n",
            "1875/1875 [==============================] - 15s 8ms/step - loss: 0.3458 - accuracy: 0.8751 - val_loss: 0.3571 - val_accuracy: 0.8693\n",
            "Epoch 17/20\n",
            "1875/1875 [==============================] - 14s 8ms/step - loss: 0.3405 - accuracy: 0.8781 - val_loss: 0.3593 - val_accuracy: 0.8682\n",
            "Epoch 18/20\n",
            "1875/1875 [==============================] - 15s 8ms/step - loss: 0.3332 - accuracy: 0.8800 - val_loss: 0.3458 - val_accuracy: 0.8758\n",
            "Epoch 19/20\n",
            "1875/1875 [==============================] - 16s 9ms/step - loss: 0.3304 - accuracy: 0.8808 - val_loss: 0.3520 - val_accuracy: 0.8709\n",
            "Epoch 20/20\n",
            "1875/1875 [==============================] - 15s 8ms/step - loss: 0.3271 - accuracy: 0.8827 - val_loss: 0.3410 - val_accuracy: 0.8766\n"
          ]
        }
      ]
    },
    {
      "cell_type": "markdown",
      "source": [
        "loss: 0.3271 - accuracy: 0.8827 - val_loss: 0.3410 - val_accuracy: 0.8766.\n",
        "\n",
        "On retient qu'il n'y a pas un grand écart entre accuracy et val_accuracy. On a réduit l'overfitting"
      ],
      "metadata": {
        "id": "pw4EG0P-lgQT"
      }
    },
    {
      "cell_type": "code",
      "source": [
        "model.summary()"
      ],
      "metadata": {
        "colab": {
          "base_uri": "https://localhost:8080/"
        },
        "id": "kzoVoscQlZwV",
        "outputId": "82ab4435-31cf-4cc4-b931-dc4debbca9b5"
      },
      "execution_count": 86,
      "outputs": [
        {
          "output_type": "stream",
          "name": "stdout",
          "text": [
            "Model: \"sequential_6\"\n",
            "_________________________________________________________________\n",
            " Layer (type)                Output Shape              Param #   \n",
            "=================================================================\n",
            " dense_14 (Dense)            (None, 784)               615440    \n",
            "                                                                 \n",
            " dropout_1 (Dropout)         (None, 784)               0         \n",
            "                                                                 \n",
            " dense_15 (Dense)            (None, 128)               100480    \n",
            "                                                                 \n",
            " dropout_2 (Dropout)         (None, 128)               0         \n",
            "                                                                 \n",
            " dense_16 (Dense)            (None, 10)                1290      \n",
            "                                                                 \n",
            "=================================================================\n",
            "Total params: 717210 (2.74 MB)\n",
            "Trainable params: 717210 (2.74 MB)\n",
            "Non-trainable params: 0 (0.00 Byte)\n",
            "_________________________________________________________________\n"
          ]
        }
      ]
    },
    {
      "cell_type": "code",
      "source": [
        "plot_loss_curve(h.history)\n",
        "plot_accuracy_curve(h.history)"
      ],
      "metadata": {
        "colab": {
          "base_uri": "https://localhost:8080/",
          "height": 927
        },
        "id": "C-H7eRirlurs",
        "outputId": "249b8dae-8b05-42cd-f4d2-5cc9c4335529"
      },
      "execution_count": 87,
      "outputs": [
        {
          "output_type": "display_data",
          "data": {
            "text/plain": [
              "<Figure size 640x480 with 1 Axes>"
            ],
            "image/png": "[encoded data removed]"
          },
          "metadata": {}
        },
        {
          "output_type": "display_data",
          "data": {
            "text/plain": [
              "<Figure size 640x480 with 1 Axes>"
            ],
            "image/png": "[encoded data removed]"
          },
          "metadata": {}
        }
      ]
    },
    {
      "cell_type": "markdown",
      "source": [
        "En désactivant aléatoirement certains neurones pendant chaque itération d'entraînement, le dropout empêche le modèle de trop dépendre de certains neurones spécifiques, ce qui rend le modèle plus robuste et généralisable.\n",
        "\n",
        " L'utilisation du dropout dans ce modèle de classification à aider à réduire le sur-apprentissage, à améliorer la régularisation et à rendre le modèle plus robuste. Cela conduit à des performances plus stables et généralisées lorsque le modèle est déployé dans des situations réelles."
      ],
      "metadata": {
        "id": "PEeX8yTLe8Ym"
      }
    },
    {
      "cell_type": "code",
      "source": [],
      "metadata": {
        "id": "hyRzCdsTfIZn"
      },
      "execution_count": 138,
      "outputs": []
    },
    {
      "cell_type": "markdown",
      "source": [
        "##Collback - MethodeCheckpoint\n",
        "\n",
        "On a vu un point qui a des meilleurs resultats. On voudrai garder le meilleur resultat, pour le faire on peut utiliser la fction callback.\n",
        "\n",
        "Les collback sont des fctions introduit lors de l'entrainement, agissant comme un alerte qui permet de surveiller l'accuracy et sauvegarde le meilleur accuracy lors dans l'entrainement d'un model"
      ],
      "metadata": {
        "id": "uqQIa5qXl0fL"
      }
    },
    {
      "cell_type": "code",
      "source": [
        "#il permet de sauvegarder le meilleur moddel encours\n",
        "from tensorflow.keras.callbacks import ModelCheckpoint"
      ],
      "metadata": {
        "id": "m2eYU-8El5S7"
      },
      "execution_count": 88,
      "outputs": []
    },
    {
      "cell_type": "code",
      "source": [
        "#si c'etait le loss, on allait sauvegarder le min.\n",
        "#on sauvegarde le meilleur\n",
        "best_model = \"best_model.h7\"\n",
        "\n",
        "model_ckp = ModelCheckpoint(filepath=best_model,\n",
        "                            monitor=\"val_accuracy\",\n",
        "                            mode=\"max\",\n",
        "                            save_best_only=True)"
      ],
      "metadata": {
        "id": "Xuo2zKW_l_yN"
      },
      "execution_count": 89,
      "outputs": []
    },
    {
      "cell_type": "code",
      "source": [
        "model = Sequential([ Dense(units=784, activation=\"relu\"),\n",
        "                    tf.keras.layers.Dropout(0.5),\n",
        "                    Dense(units=128, activation=\"relu\"),\n",
        "                     tf.keras.layers.Dropout(0.3),\n",
        "                   Dense(units=10, activation=\"softmax\"),\n",
        "                ])\n",
        "model.compile(loss=\"categorical_crossentropy\", optimizer=SGD(learning_rate=0.01), metrics=[\"accuracy\"])\n",
        "h = model.fit(x_train, y_train,\n",
        "              epochs=30,\n",
        "              validation_data=(x_test, y_test),\n",
        "              callbacks =[model_ckp])"
      ],
      "metadata": {
        "colab": {
          "base_uri": "https://localhost:8080/"
        },
        "id": "bFx1KfGQmFX8",
        "outputId": "14d944e5-baa7-4e30-eca7-f0dc641a417e"
      },
      "execution_count": 90,
      "outputs": [
        {
          "output_type": "stream",
          "name": "stdout",
          "text": [
            "Epoch 1/30\n",
            "1875/1875 [==============================] - 17s 9ms/step - loss: 0.8539 - accuracy: 0.7046 - val_loss: 0.5565 - val_accuracy: 0.8006\n",
            "Epoch 2/30\n",
            "1875/1875 [==============================] - 17s 9ms/step - loss: 0.5762 - accuracy: 0.7996 - val_loss: 0.4815 - val_accuracy: 0.8277\n",
            "Epoch 3/30\n",
            "1875/1875 [==============================] - 16s 8ms/step - loss: 0.5094 - accuracy: 0.8210 - val_loss: 0.4510 - val_accuracy: 0.8392\n",
            "Epoch 4/30\n",
            "1875/1875 [==============================] - 15s 8ms/step - loss: 0.4763 - accuracy: 0.8315 - val_loss: 0.4284 - val_accuracy: 0.8466\n",
            "Epoch 5/30\n",
            "1875/1875 [==============================] - 15s 8ms/step - loss: 0.4496 - accuracy: 0.8394 - val_loss: 0.4156 - val_accuracy: 0.8488\n",
            "Epoch 6/30\n",
            "1875/1875 [==============================] - 16s 8ms/step - loss: 0.4317 - accuracy: 0.8467 - val_loss: 0.4080 - val_accuracy: 0.8518\n",
            "Epoch 7/30\n",
            "1875/1875 [==============================] - 16s 8ms/step - loss: 0.4172 - accuracy: 0.8521 - val_loss: 0.3981 - val_accuracy: 0.8567\n",
            "Epoch 8/30\n",
            "1875/1875 [==============================] - 17s 9ms/step - loss: 0.4045 - accuracy: 0.8545 - val_loss: 0.3886 - val_accuracy: 0.8619\n",
            "Epoch 9/30\n",
            "1875/1875 [==============================] - 17s 9ms/step - loss: 0.3933 - accuracy: 0.8598 - val_loss: 0.3783 - val_accuracy: 0.8635\n",
            "Epoch 10/30\n",
            "1875/1875 [==============================] - 16s 8ms/step - loss: 0.3838 - accuracy: 0.8617 - val_loss: 0.3724 - val_accuracy: 0.8645\n",
            "Epoch 11/30\n",
            "1875/1875 [==============================] - 16s 8ms/step - loss: 0.3773 - accuracy: 0.8644 - val_loss: 0.3681 - val_accuracy: 0.8659\n",
            "Epoch 12/30\n",
            "1875/1875 [==============================] - 16s 9ms/step - loss: 0.3696 - accuracy: 0.8684 - val_loss: 0.3686 - val_accuracy: 0.8667\n",
            "Epoch 13/30\n",
            "1875/1875 [==============================] - 15s 8ms/step - loss: 0.3627 - accuracy: 0.8704 - val_loss: 0.3620 - val_accuracy: 0.8690\n",
            "Epoch 14/30\n",
            "1875/1875 [==============================] - 15s 8ms/step - loss: 0.3547 - accuracy: 0.8727 - val_loss: 0.3613 - val_accuracy: 0.8669\n",
            "Epoch 15/30\n",
            "1875/1875 [==============================] - 16s 8ms/step - loss: 0.3509 - accuracy: 0.8733 - val_loss: 0.3526 - val_accuracy: 0.8718\n",
            "Epoch 16/30\n",
            "1875/1875 [==============================] - 17s 9ms/step - loss: 0.3456 - accuracy: 0.8751 - val_loss: 0.3527 - val_accuracy: 0.8722\n",
            "Epoch 17/30\n",
            "1875/1875 [==============================] - 16s 9ms/step - loss: 0.3384 - accuracy: 0.8761 - val_loss: 0.3496 - val_accuracy: 0.8723\n",
            "Epoch 18/30\n",
            "1875/1875 [==============================] - 16s 8ms/step - loss: 0.3351 - accuracy: 0.8788 - val_loss: 0.3429 - val_accuracy: 0.8763\n",
            "Epoch 19/30\n",
            "1875/1875 [==============================] - 16s 9ms/step - loss: 0.3312 - accuracy: 0.8806 - val_loss: 0.3443 - val_accuracy: 0.8765\n",
            "Epoch 20/30\n",
            "1875/1875 [==============================] - 16s 9ms/step - loss: 0.3277 - accuracy: 0.8809 - val_loss: 0.3425 - val_accuracy: 0.8777\n",
            "Epoch 21/30\n",
            "1875/1875 [==============================] - 15s 8ms/step - loss: 0.3216 - accuracy: 0.8837 - val_loss: 0.3442 - val_accuracy: 0.8752\n",
            "Epoch 22/30\n",
            "1875/1875 [==============================] - 21s 11ms/step - loss: 0.3156 - accuracy: 0.8853 - val_loss: 0.3336 - val_accuracy: 0.8799\n",
            "Epoch 23/30\n",
            "1875/1875 [==============================] - 16s 9ms/step - loss: 0.3156 - accuracy: 0.8868 - val_loss: 0.3343 - val_accuracy: 0.8790\n",
            "Epoch 24/30\n",
            "1875/1875 [==============================] - 17s 9ms/step - loss: 0.3093 - accuracy: 0.8880 - val_loss: 0.3330 - val_accuracy: 0.8819\n",
            "Epoch 25/30\n",
            "1875/1875 [==============================] - 15s 8ms/step - loss: 0.3077 - accuracy: 0.8887 - val_loss: 0.3327 - val_accuracy: 0.8809\n",
            "Epoch 26/30\n",
            "1875/1875 [==============================] - 15s 8ms/step - loss: 0.3031 - accuracy: 0.8891 - val_loss: 0.3321 - val_accuracy: 0.8814\n",
            "Epoch 27/30\n",
            "1875/1875 [==============================] - 17s 9ms/step - loss: 0.3013 - accuracy: 0.8896 - val_loss: 0.3256 - val_accuracy: 0.8839\n",
            "Epoch 28/30\n",
            "1875/1875 [==============================] - 17s 9ms/step - loss: 0.2982 - accuracy: 0.8906 - val_loss: 0.3250 - val_accuracy: 0.8854\n",
            "Epoch 29/30\n",
            "1875/1875 [==============================] - 16s 9ms/step - loss: 0.2942 - accuracy: 0.8918 - val_loss: 0.3198 - val_accuracy: 0.8863\n",
            "Epoch 30/30\n",
            "1875/1875 [==============================] - 15s 8ms/step - loss: 0.2929 - accuracy: 0.8922 - val_loss: 0.3242 - val_accuracy: 0.8827\n"
          ]
        }
      ]
    },
    {
      "cell_type": "code",
      "source": [
        "model_save = tf.keras.models.load_model('best_model.h7')"
      ],
      "metadata": {
        "id": "zISToPVZpNcM"
      },
      "execution_count": 91,
      "outputs": []
    },
    {
      "cell_type": "code",
      "source": [
        "model_save.evaluate(x_test, y_test)"
      ],
      "metadata": {
        "colab": {
          "base_uri": "https://localhost:8080/"
        },
        "id": "dkLJfgCkpRGt",
        "outputId": "fc738613-267d-4945-b798-c076528618ac"
      },
      "execution_count": 92,
      "outputs": [
        {
          "output_type": "stream",
          "name": "stdout",
          "text": [
            "313/313 [==============================] - 1s 3ms/step - loss: 0.3198 - accuracy: 0.8863\n"
          ]
        },
        {
          "output_type": "execute_result",
          "data": {
            "text/plain": [
              "[0.31982555985450745, 0.8863000273704529]"
            ]
          },
          "metadata": {},
          "execution_count": 92
        }
      ]
    },
    {
      "cell_type": "markdown",
      "source": [
        "##Early stopping\n",
        "\n",
        "Pour arreter l'entrainement plutot, on peut mettre des conditions pour l'arreter. On peut mettre plusieurs epoch et arreter lorsque le meilleur accucracy se repete dans plusieurs Epoch"
      ],
      "metadata": {
        "id": "wMMMflPlpsDk"
      }
    },
    {
      "cell_type": "code",
      "source": [
        "#Callbacks sont des fctions qu'on peut ecrire,inserer lors de l'entrainement\n",
        "stop = tf.keras.callbacks.EarlyStopping(monitor=\"val_accuracy\", patience=2)"
      ],
      "metadata": {
        "id": "NxssyUFdpw_W"
      },
      "execution_count": 93,
      "outputs": []
    },
    {
      "cell_type": "code",
      "source": [
        "model_ckp"
      ],
      "metadata": {
        "colab": {
          "base_uri": "https://localhost:8080/"
        },
        "id": "LBDm2eMJpzol",
        "outputId": "ed0bab6d-c8fc-4597-83e1-3e8dc8304c6a"
      },
      "execution_count": 94,
      "outputs": [
        {
          "output_type": "execute_result",
          "data": {
            "text/plain": [
              "<keras.src.callbacks.ModelCheckpoint at 0x796773e23400>"
            ]
          },
          "metadata": {},
          "execution_count": 94
        }
      ]
    },
    {
      "cell_type": "code",
      "source": [
        "model = Sequential([ Dense(units=784, activation=\"relu\"),\n",
        "                    tf.keras.layers.Dropout(0.5),\n",
        "                    Dense(units=128, activation=\"relu\"),\n",
        "                     tf.keras.layers.Dropout(0.3),\n",
        "                   Dense(units=10, activation=\"softmax\"),\n",
        "                ])\n",
        "model.compile(loss=\"categorical_crossentropy\", optimizer=SGD(learning_rate=0.01), metrics=[\"accuracy\"])\n",
        "h = model.fit(x_train, y_train,\n",
        "              epochs=1000,\n",
        "              validation_data=(x_test, y_test),\n",
        "              callbacks =[model_ckp, stop])"
      ],
      "metadata": {
        "colab": {
          "base_uri": "https://localhost:8080/"
        },
        "id": "-K5H7Clhp4YN",
        "outputId": "9c940ce7-332b-45cc-f6d6-ef0414fdf845"
      },
      "execution_count": 95,
      "outputs": [
        {
          "output_type": "stream",
          "name": "stdout",
          "text": [
            "Epoch 1/1000\n",
            "1875/1875 [==============================] - 17s 9ms/step - loss: 0.8489 - accuracy: 0.7063 - val_loss: 0.5577 - val_accuracy: 0.7963\n",
            "Epoch 2/1000\n",
            "1875/1875 [==============================] - 15s 8ms/step - loss: 0.5753 - accuracy: 0.7993 - val_loss: 0.4855 - val_accuracy: 0.8262\n",
            "Epoch 3/1000\n",
            "1875/1875 [==============================] - 15s 8ms/step - loss: 0.5112 - accuracy: 0.8205 - val_loss: 0.4507 - val_accuracy: 0.8370\n",
            "Epoch 4/1000\n",
            "1875/1875 [==============================] - 15s 8ms/step - loss: 0.4754 - accuracy: 0.8316 - val_loss: 0.4276 - val_accuracy: 0.8472\n",
            "Epoch 5/1000\n",
            "1875/1875 [==============================] - 15s 8ms/step - loss: 0.4485 - accuracy: 0.8411 - val_loss: 0.4125 - val_accuracy: 0.8503\n",
            "Epoch 6/1000\n",
            "1875/1875 [==============================] - 16s 9ms/step - loss: 0.4315 - accuracy: 0.8459 - val_loss: 0.4037 - val_accuracy: 0.8533\n",
            "Epoch 7/1000\n",
            "1875/1875 [==============================] - 15s 8ms/step - loss: 0.4164 - accuracy: 0.8519 - val_loss: 0.3935 - val_accuracy: 0.8580\n",
            "Epoch 8/1000\n",
            "1875/1875 [==============================] - 16s 9ms/step - loss: 0.4055 - accuracy: 0.8555 - val_loss: 0.3927 - val_accuracy: 0.8564\n",
            "Epoch 9/1000\n",
            "1875/1875 [==============================] - 15s 8ms/step - loss: 0.3940 - accuracy: 0.8585 - val_loss: 0.3771 - val_accuracy: 0.8619\n",
            "Epoch 10/1000\n",
            "1875/1875 [==============================] - 15s 8ms/step - loss: 0.3871 - accuracy: 0.8619 - val_loss: 0.3734 - val_accuracy: 0.8642\n",
            "Epoch 11/1000\n",
            "1875/1875 [==============================] - 16s 9ms/step - loss: 0.3759 - accuracy: 0.8663 - val_loss: 0.3673 - val_accuracy: 0.8659\n",
            "Epoch 12/1000\n",
            "1875/1875 [==============================] - 15s 8ms/step - loss: 0.3706 - accuracy: 0.8670 - val_loss: 0.3653 - val_accuracy: 0.8672\n",
            "Epoch 13/1000\n",
            "1875/1875 [==============================] - 15s 8ms/step - loss: 0.3626 - accuracy: 0.8702 - val_loss: 0.3606 - val_accuracy: 0.8686\n",
            "Epoch 14/1000\n",
            "1875/1875 [==============================] - 15s 8ms/step - loss: 0.3576 - accuracy: 0.8702 - val_loss: 0.3555 - val_accuracy: 0.8701\n",
            "Epoch 15/1000\n",
            "1875/1875 [==============================] - 15s 8ms/step - loss: 0.3522 - accuracy: 0.8729 - val_loss: 0.3577 - val_accuracy: 0.8715\n",
            "Epoch 16/1000\n",
            "1875/1875 [==============================] - 17s 9ms/step - loss: 0.3449 - accuracy: 0.8763 - val_loss: 0.3585 - val_accuracy: 0.8687\n",
            "Epoch 17/1000\n",
            "1875/1875 [==============================] - 16s 9ms/step - loss: 0.3410 - accuracy: 0.8756 - val_loss: 0.3462 - val_accuracy: 0.8739\n",
            "Epoch 18/1000\n",
            "1875/1875 [==============================] - 15s 8ms/step - loss: 0.3354 - accuracy: 0.8794 - val_loss: 0.3443 - val_accuracy: 0.8745\n",
            "Epoch 19/1000\n",
            "1875/1875 [==============================] - 15s 8ms/step - loss: 0.3297 - accuracy: 0.8803 - val_loss: 0.3410 - val_accuracy: 0.8766\n",
            "Epoch 20/1000\n",
            "1875/1875 [==============================] - 15s 8ms/step - loss: 0.3263 - accuracy: 0.8821 - val_loss: 0.3352 - val_accuracy: 0.8784\n",
            "Epoch 21/1000\n",
            "1875/1875 [==============================] - 15s 8ms/step - loss: 0.3229 - accuracy: 0.8815 - val_loss: 0.3354 - val_accuracy: 0.8789\n",
            "Epoch 22/1000\n",
            "1875/1875 [==============================] - 15s 8ms/step - loss: 0.3201 - accuracy: 0.8850 - val_loss: 0.3334 - val_accuracy: 0.8779\n",
            "Epoch 23/1000\n",
            "1875/1875 [==============================] - 15s 8ms/step - loss: 0.3156 - accuracy: 0.8857 - val_loss: 0.3325 - val_accuracy: 0.8776\n"
          ]
        }
      ]
    },
    {
      "cell_type": "code",
      "source": [
        "model_save = tf.keras.models.load_model('best_model.h7')"
      ],
      "metadata": {
        "id": "TjTAx_OPrzbs"
      },
      "execution_count": 96,
      "outputs": []
    },
    {
      "cell_type": "code",
      "source": [
        "model_save.summary()"
      ],
      "metadata": {
        "colab": {
          "base_uri": "https://localhost:8080/"
        },
        "id": "aijm1dJsr2WV",
        "outputId": "d2e8ea2d-9272-4ea7-d3aa-ec4448ede504"
      },
      "execution_count": 97,
      "outputs": [
        {
          "output_type": "stream",
          "name": "stdout",
          "text": [
            "Model: \"sequential_7\"\n",
            "_________________________________________________________________\n",
            " Layer (type)                Output Shape              Param #   \n",
            "=================================================================\n",
            " dense_17 (Dense)            (None, 784)               615440    \n",
            "                                                                 \n",
            " dropout_3 (Dropout)         (None, 784)               0         \n",
            "                                                                 \n",
            " dense_18 (Dense)            (None, 128)               100480    \n",
            "                                                                 \n",
            " dropout_4 (Dropout)         (None, 128)               0         \n",
            "                                                                 \n",
            " dense_19 (Dense)            (None, 10)                1290      \n",
            "                                                                 \n",
            "=================================================================\n",
            "Total params: 717210 (2.74 MB)\n",
            "Trainable params: 717210 (2.74 MB)\n",
            "Non-trainable params: 0 (0.00 Byte)\n",
            "_________________________________________________________________\n"
          ]
        }
      ]
    },
    {
      "cell_type": "code",
      "source": [
        "plot_loss_curve(h.history)\n",
        "plot_accuracy_curve(h.history)"
      ],
      "metadata": {
        "colab": {
          "base_uri": "https://localhost:8080/",
          "height": 927
        },
        "id": "IusQe7HEsORF",
        "outputId": "b7f60bcd-52ed-480e-e671-5d0d92f62b32"
      },
      "execution_count": 98,
      "outputs": [
        {
          "output_type": "display_data",
          "data": {
            "text/plain": [
              "<Figure size 640x480 with 1 Axes>"
            ],
            "image/png": "[encoded data removed]"
          },
          "metadata": {}
        },
        {
          "output_type": "display_data",
          "data": {
            "text/plain": [
              "<Figure size 640x480 with 1 Axes>"
            ],
            "image/png": "[encoded data removed]"
          },
          "metadata": {}
        }
      ]
    },
    {
      "cell_type": "code",
      "source": [],
      "metadata": {
        "id": "Q_x1Naf2kIgP"
      },
      "execution_count": 138,
      "outputs": []
    },
    {
      "cell_type": "markdown",
      "source": [
        "Fiare des prédictions"
      ],
      "metadata": {
        "id": "sMz2RlWVkFY_"
      }
    },
    {
      "cell_type": "code",
      "source": [
        "x_test[215].shape"
      ],
      "metadata": {
        "colab": {
          "base_uri": "https://localhost:8080/"
        },
        "id": "BrVY-j6AsiWU",
        "outputId": "305c91e9-8fdf-4644-da5a-6fb2c2303bdf"
      },
      "execution_count": 99,
      "outputs": [
        {
          "output_type": "execute_result",
          "data": {
            "text/plain": [
              "(784,)"
            ]
          },
          "metadata": {},
          "execution_count": 99
        }
      ]
    },
    {
      "cell_type": "code",
      "source": [
        "y_test[215]"
      ],
      "metadata": {
        "colab": {
          "base_uri": "https://localhost:8080/"
        },
        "id": "zeg9EV2Esuec",
        "outputId": "7b803181-da40-44ac-e07f-5eaab44e7334"
      },
      "execution_count": 100,
      "outputs": [
        {
          "output_type": "execute_result",
          "data": {
            "text/plain": [
              "array([0., 0., 0., 1., 0., 0., 0., 0., 0., 0.], dtype=float32)"
            ]
          },
          "metadata": {},
          "execution_count": 100
        }
      ]
    },
    {
      "cell_type": "code",
      "source": [
        "\n",
        "np.argmax(y_test[215])"
      ],
      "metadata": {
        "colab": {
          "base_uri": "https://localhost:8080/"
        },
        "id": "j8L0p6sTs1OM",
        "outputId": "ea6043d6-b199-4bb4-c259-3c3da23a92c6"
      },
      "execution_count": 102,
      "outputs": [
        {
          "output_type": "execute_result",
          "data": {
            "text/plain": [
              "3"
            ]
          },
          "metadata": {},
          "execution_count": 102
        }
      ]
    },
    {
      "cell_type": "code",
      "source": [
        "labels[3]"
      ],
      "metadata": {
        "colab": {
          "base_uri": "https://localhost:8080/",
          "height": 36
        },
        "id": "O2uFHYnvtAzV",
        "outputId": "a4e38c34-7573-4044-de6e-d7a45a174a70"
      },
      "execution_count": 103,
      "outputs": [
        {
          "output_type": "execute_result",
          "data": {
            "text/plain": [
              "'Robe'"
            ],
            "application/vnd.google.colaboratory.intrinsic+json": {
              "type": "string"
            }
          },
          "metadata": {},
          "execution_count": 103
        }
      ]
    },
    {
      "cell_type": "code",
      "source": [
        "pred = model_save.predict(x_test[215].reshape((1, 784)))"
      ],
      "metadata": {
        "colab": {
          "base_uri": "https://localhost:8080/"
        },
        "id": "uQxliPIRtKJF",
        "outputId": "3d9e9ebe-9568-449e-add5-d6fbd8035a64"
      },
      "execution_count": 107,
      "outputs": [
        {
          "output_type": "stream",
          "name": "stdout",
          "text": [
            "1/1 [==============================] - 0s 27ms/step\n"
          ]
        }
      ]
    },
    {
      "cell_type": "code",
      "source": [
        "pred"
      ],
      "metadata": {
        "colab": {
          "base_uri": "https://localhost:8080/"
        },
        "id": "lkiE8xnetUKl",
        "outputId": "3609c589-3a2e-4650-ee68-181a806df3c0"
      },
      "execution_count": 108,
      "outputs": [
        {
          "output_type": "execute_result",
          "data": {
            "text/plain": [
              "array([[8.24965257e-03, 1.25364203e-03, 1.03761675e-04, 9.88836408e-01,\n",
              "        2.30332571e-05, 7.51194057e-06, 1.19310967e-03, 7.27436145e-06,\n",
              "        3.15970130e-04, 9.50459980e-06]], dtype=float32)"
            ]
          },
          "metadata": {},
          "execution_count": 108
        }
      ]
    },
    {
      "cell_type": "code",
      "source": [
        "np.argmax(pred)"
      ],
      "metadata": {
        "colab": {
          "base_uri": "https://localhost:8080/"
        },
        "id": "NZ5nmYY9tWQ9",
        "outputId": "d21725ab-46e5-475f-b1db-9c2fc1129b78"
      },
      "execution_count": 109,
      "outputs": [
        {
          "output_type": "execute_result",
          "data": {
            "text/plain": [
              "3"
            ]
          },
          "metadata": {},
          "execution_count": 109
        }
      ]
    },
    {
      "cell_type": "code",
      "source": [
        "labels[3]"
      ],
      "metadata": {
        "colab": {
          "base_uri": "https://localhost:8080/",
          "height": 36
        },
        "id": "ZYBXH9F2teDR",
        "outputId": "cbf00290-7fd0-4e8b-a3ce-6513331beb4c"
      },
      "execution_count": 111,
      "outputs": [
        {
          "output_type": "execute_result",
          "data": {
            "text/plain": [
              "'Robe'"
            ],
            "application/vnd.google.colaboratory.intrinsic+json": {
              "type": "string"
            }
          },
          "metadata": {},
          "execution_count": 111
        }
      ]
    }
  ]
}